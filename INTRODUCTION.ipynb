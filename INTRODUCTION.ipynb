{
 "cells": [
  {
   "cell_type": "markdown",
   "id": "a963cb41",
   "metadata": {},
   "source": [
    "# PYTHON"
   ]
  },
  {
   "cell_type": "markdown",
   "id": "2874c99c",
   "metadata": {},
   "source": [
    "# The prints functions prints a message to the screen"
   ]
  },
  {
   "cell_type": "code",
   "execution_count": 2,
   "id": "48bcb120",
   "metadata": {},
   "outputs": [
    {
     "name": "stdout",
     "output_type": "stream",
     "text": [
      "hello world\n"
     ]
    }
   ],
   "source": [
    "print ('hello world')"
   ]
  },
  {
   "cell_type": "markdown",
   "id": "152fba20",
   "metadata": {},
   "source": [
    "# Data Types\n",
    "\n",
    "data types are particular types of data using in the python. e.g integer and float, sring etc."
   ]
  },
  {
   "cell_type": "markdown",
   "id": "469b460d",
   "metadata": {},
   "source": [
    "#  number\n",
    "integer and float"
   ]
  },
  {
   "cell_type": "code",
   "execution_count": 6,
   "id": "83fce3f4",
   "metadata": {},
   "outputs": [
    {
     "data": {
      "text/plain": [
       "int"
      ]
     },
     "execution_count": 6,
     "metadata": {},
     "output_type": "execute_result"
    }
   ],
   "source": [
    "type (1)"
   ]
  },
  {
   "cell_type": "code",
   "execution_count": 5,
   "id": "b813ac0d",
   "metadata": {},
   "outputs": [
    {
     "data": {
      "text/plain": [
       "float"
      ]
     },
     "execution_count": 5,
     "metadata": {},
     "output_type": "execute_result"
    }
   ],
   "source": [
    "type (2.3)"
   ]
  },
  {
   "cell_type": "markdown",
   "id": "5f65aaf6",
   "metadata": {},
   "source": [
    "# MATH OPERATOR\n",
    "JUST LIKE ON EXCEL, YOU CAN PERFORM MATH OPERATIONS IN PYTHONS.\n",
    "ADDITIONS +\n",
    "SUBTRACTIONS -\n",
    "MULTIPLICATIONS *\n",
    "DIVISSION /\n",
    "EXPONENTS **\n",
    "REMINDER %\n",
    "INTEGER DIVISSION //"
   ]
  },
  {
   "cell_type": "code",
   "execution_count": 7,
   "id": "0351bdbb",
   "metadata": {},
   "outputs": [
    {
     "data": {
      "text/plain": [
       "9"
      ]
     },
     "execution_count": 7,
     "metadata": {},
     "output_type": "execute_result"
    }
   ],
   "source": [
    "5+4"
   ]
  },
  {
   "cell_type": "code",
   "execution_count": 1,
   "id": "5bb15723",
   "metadata": {},
   "outputs": [
    {
     "data": {
      "text/plain": [
       "9"
      ]
     },
     "execution_count": 1,
     "metadata": {},
     "output_type": "execute_result"
    }
   ],
   "source": [
    "3+6"
   ]
  },
  {
   "cell_type": "code",
   "execution_count": 8,
   "id": "41521a7d",
   "metadata": {},
   "outputs": [
    {
     "data": {
      "text/plain": [
       "20"
      ]
     },
     "execution_count": 8,
     "metadata": {},
     "output_type": "execute_result"
    }
   ],
   "source": [
    "5*4"
   ]
  },
  {
   "cell_type": "code",
   "execution_count": 9,
   "id": "4a4953a8",
   "metadata": {},
   "outputs": [
    {
     "data": {
      "text/plain": [
       "1"
      ]
     },
     "execution_count": 9,
     "metadata": {},
     "output_type": "execute_result"
    }
   ],
   "source": [
    "5-4"
   ]
  },
  {
   "cell_type": "code",
   "execution_count": 10,
   "id": "1c74991f",
   "metadata": {},
   "outputs": [
    {
     "data": {
      "text/plain": [
       "5.0"
      ]
     },
     "execution_count": 10,
     "metadata": {},
     "output_type": "execute_result"
    }
   ],
   "source": [
    "10/2"
   ]
  },
  {
   "cell_type": "code",
   "execution_count": 2,
   "id": "90e35e7a",
   "metadata": {},
   "outputs": [
    {
     "data": {
      "text/plain": [
       "32"
      ]
     },
     "execution_count": 2,
     "metadata": {},
     "output_type": "execute_result"
    }
   ],
   "source": [
    "2**5"
   ]
  },
  {
   "cell_type": "code",
   "execution_count": 3,
   "id": "18f80e5c",
   "metadata": {},
   "outputs": [
    {
     "data": {
      "text/plain": [
       "81"
      ]
     },
     "execution_count": 3,
     "metadata": {},
     "output_type": "execute_result"
    }
   ],
   "source": [
    "3**4"
   ]
  },
  {
   "cell_type": "code",
   "execution_count": 12,
   "id": "fc6bba23",
   "metadata": {},
   "outputs": [
    {
     "data": {
      "text/plain": [
       "3"
      ]
     },
     "execution_count": 12,
     "metadata": {},
     "output_type": "execute_result"
    }
   ],
   "source": [
    "7%4"
   ]
  },
  {
   "cell_type": "code",
   "execution_count": 13,
   "id": "425a1f44",
   "metadata": {},
   "outputs": [
    {
     "data": {
      "text/plain": [
       "1"
      ]
     },
     "execution_count": 13,
     "metadata": {},
     "output_type": "execute_result"
    }
   ],
   "source": [
    "8//5"
   ]
  },
  {
   "cell_type": "code",
   "execution_count": 1,
   "id": "001c06b6",
   "metadata": {},
   "outputs": [
    {
     "data": {
      "text/plain": [
       "2"
      ]
     },
     "execution_count": 1,
     "metadata": {},
     "output_type": "execute_result"
    }
   ],
   "source": [
    "11//5"
   ]
  },
  {
   "cell_type": "markdown",
   "id": "0d05bf93",
   "metadata": {},
   "source": [
    "# BOOLEAN\n",
    "BOOLEAN (BOOL): TRUE/FALSE "
   ]
  },
  {
   "cell_type": "code",
   "execution_count": 15,
   "id": "489e1da6",
   "metadata": {},
   "outputs": [
    {
     "data": {
      "text/plain": [
       "bool"
      ]
     },
     "execution_count": 15,
     "metadata": {},
     "output_type": "execute_result"
    }
   ],
   "source": [
    "type (True)"
   ]
  },
  {
   "cell_type": "code",
   "execution_count": 17,
   "id": "20a48af3",
   "metadata": {},
   "outputs": [
    {
     "data": {
      "text/plain": [
       "bool"
      ]
     },
     "execution_count": 17,
     "metadata": {},
     "output_type": "execute_result"
    }
   ],
   "source": [
    "type (False)"
   ]
  },
  {
   "cell_type": "markdown",
   "id": "3ae8b1e6",
   "metadata": {},
   "source": [
    "# STRING\n",
    "IT REPRESENTS TEXT IN PYTHON"
   ]
  },
  {
   "cell_type": "code",
   "execution_count": 19,
   "id": "672e75af",
   "metadata": {},
   "outputs": [
    {
     "data": {
      "text/plain": [
       "str"
      ]
     },
     "execution_count": 19,
     "metadata": {},
     "output_type": "execute_result"
    }
   ],
   "source": [
    "type ('Heloo world')"
   ]
  },
  {
   "cell_type": "markdown",
   "id": "e582a741",
   "metadata": {},
   "source": [
    "# METHODS OF STRING\n",
    "WE CAN APPLY DIFFERENT FUNCTIONS TO OUR TEXT IN EXCEL. AS WELL AS IN PYTHON WE APPLY DIFFERENT METHODS TO OUR STRING SUCH AS UPPER, LOWER, TITLE (PROPER IN EXCEL) ETC."
   ]
  },
  {
   "cell_type": "code",
   "execution_count": 42,
   "id": "307a2e6e",
   "metadata": {},
   "outputs": [
    {
     "name": "stdout",
     "output_type": "stream",
     "text": [
      "WASIU RAZAK\n"
     ]
    }
   ],
   "source": [
    "#How to convert text to capital letter\n",
    "print('wasiu razak'.upper())\n"
   ]
  },
  {
   "cell_type": "code",
   "execution_count": 4,
   "id": "d6790602",
   "metadata": {},
   "outputs": [
    {
     "name": "stdout",
     "output_type": "stream",
     "text": [
      "TUNDE YINKA\n"
     ]
    }
   ],
   "source": [
    "# convert text to capital letter\n",
    "print('tunde yinka'.upper())"
   ]
  },
  {
   "cell_type": "code",
   "execution_count": 43,
   "id": "6681bfe2",
   "metadata": {},
   "outputs": [
    {
     "name": "stdout",
     "output_type": "stream",
     "text": [
      "saheed fatai\n"
     ]
    }
   ],
   "source": [
    "#how to convert string to lower \n",
    "print('saheed fatai'.lower())"
   ]
  },
  {
   "cell_type": "code",
   "execution_count": 5,
   "id": "21792cdb",
   "metadata": {},
   "outputs": [
    {
     "name": "stdout",
     "output_type": "stream",
     "text": [
      "luku musa\n"
     ]
    }
   ],
   "source": [
    "# convert string to lower\n",
    "print('luku musa'.lower())"
   ]
  },
  {
   "cell_type": "code",
   "execution_count": 7,
   "id": "7aa88905",
   "metadata": {},
   "outputs": [
    {
     "name": "stdout",
     "output_type": "stream",
     "text": [
      "Akeem Rafiu\n",
      "Ibrahim Alade\n"
     ]
    }
   ],
   "source": [
    "#how to give string a proper  \n",
    "print('akeem rafiu'.title())\n",
    "print('ibrahim alade'.title())"
   ]
  },
  {
   "cell_type": "code",
   "execution_count": 9,
   "id": "865947db",
   "metadata": {},
   "outputs": [
    {
     "name": "stdout",
     "output_type": "stream",
     "text": [
      "2\n",
      "2\n"
     ]
    }
   ],
   "source": [
    "#how to count letters in a string\n",
    "print('ameenat wahab'.count('e'))\n",
    "print('tajudden'.count('d'))"
   ]
  },
  {
   "cell_type": "code",
   "execution_count": 10,
   "id": "9032d6f5",
   "metadata": {},
   "outputs": [
    {
     "name": "stdout",
     "output_type": "stream",
     "text": [
      "amuunat wahab\n",
      "khadiijat saliim\n"
     ]
    }
   ],
   "source": [
    "#how to replace letter in a string\n",
    "print('ameenat wahab'.replace('e','u'))\n",
    "print('khadeejat saleem'.replace('e', 'i'))"
   ]
  },
  {
   "cell_type": "markdown",
   "id": "671c9553",
   "metadata": {},
   "source": [
    "# VARIABLES\n",
    "IT IS RESERVED AND SYMBOLIC MEMORY TO STORE DATA. IT WILL GIVE US OPPORTUNITY TO REFER TO THE NAME WITH AID OF ASSIGNED SYMBOL."
   ]
  },
  {
   "cell_type": "code",
   "execution_count": 12,
   "id": "0184b328",
   "metadata": {},
   "outputs": [
    {
     "name": "stdout",
     "output_type": "stream",
     "text": [
      "300\n",
      "250\n"
     ]
    }
   ],
   "source": [
    "n = 300\n",
    "print(n)\n",
    "x = 200\n",
    "y = 50\n",
    "print (x+y)"
   ]
  },
  {
   "cell_type": "code",
   "execution_count": 35,
   "id": "56eb8b74",
   "metadata": {},
   "outputs": [
    {
     "name": "stdout",
     "output_type": "stream",
     "text": [
      "PLEASE ENTER THE FIRST NUMBER5\n",
      "PLEASE ENTER THE SECOND NUMBER6\n",
      "THE SUM IS: 11\n"
     ]
    }
   ],
   "source": [
    "NUM1 = input('PLEASE ENTER THE FIRST NUMBER')\n",
    "NUM2 = input('PLEASE ENTER THE SECOND NUMBER')\n",
    "SUM = int(NUM1) + int(NUM2)\n",
    "print('THE SUM IS:',SUM)\n"
   ]
  },
  {
   "cell_type": "code",
   "execution_count": null,
   "id": "2adffde7",
   "metadata": {
    "scrolled": false
   },
   "outputs": [],
   "source": [
    "x = input('please enter first integer')\n",
    "y= input('please enter second integer')\n",
    "sum=int(x) + int(y)\n",
    "ave= sum/2\n",
    "print ('the sum is:', sum)\n",
    "print ('the average is:', ave)"
   ]
  },
  {
   "cell_type": "code",
   "execution_count": 41,
   "id": "a5484a5c",
   "metadata": {},
   "outputs": [
    {
     "name": "stdout",
     "output_type": "stream",
     "text": [
      "please enter the first integer3\n",
      "please enter the second integer4\n",
      "the product of int x and int y is: 12\n"
     ]
    }
   ],
   "source": [
    "x= input('please enter the first integer')\n",
    "y=input('please enter the second integer')\n",
    "product=int(x) * int(y)\n",
    "print('the product of int x and int y is:', product)"
   ]
  },
  {
   "cell_type": "code",
   "execution_count": 49,
   "id": "184e464e",
   "metadata": {},
   "outputs": [
    {
     "name": "stdout",
     "output_type": "stream",
     "text": [
      "please enter first integer20\n",
      "please enter second integer5\n",
      "please enter third integer4\n",
      "the difference is: 11\n"
     ]
    }
   ],
   "source": [
    "x=input('please enter first integer')\n",
    "y=input('please enter second integer')\n",
    "z=input('please enter third integer')\n",
    "difference=int(x) -int(y) - int(z)\n",
    "print('the difference is:',difference)\n"
   ]
  },
  {
   "cell_type": "code",
   "execution_count": 51,
   "id": "41896513",
   "metadata": {},
   "outputs": [
    {
     "name": "stdout",
     "output_type": "stream",
     "text": [
      "please enter first integer20\n",
      "please enter second integer4\n",
      "the quotient of the two integers is; 5.0\n"
     ]
    }
   ],
   "source": [
    "x=input('please enter first integer')\n",
    "y=input('please enter second integer')\n",
    "quotient=int(x)/int(y)\n",
    "print('the quotient of the two integers is;',quotient)"
   ]
  },
  {
   "cell_type": "markdown",
   "id": "212a71c5",
   "metadata": {},
   "source": [
    "# STRING CONCATENATE\n",
    "IT IS A WAY OF COMBINING OR JOINING TWO STRINGS TOGETHER IN PYTHON."
   ]
  },
  {
   "cell_type": "code",
   "execution_count": 5,
   "id": "a4e27242",
   "metadata": {},
   "outputs": [
    {
     "name": "stdout",
     "output_type": "stream",
     "text": [
      "kamilu musa\n",
      "azeezrazak\n"
     ]
    }
   ],
   "source": [
    "firstname= \"kamilu\"\n",
    "lastname= \"musa\"\n",
    "fullname =firstname + \" \" + lastname\n",
    "print (fullname)\n",
    "firstname= \"azeez\"\n",
    "lastname= \"razak\"\n",
    "fullname =firstname + lastname\n",
    "print (fullname)"
   ]
  },
  {
   "cell_type": "markdown",
   "id": "b049221d",
   "metadata": {},
   "source": [
    "# LIST\n",
    "IT IS USED TO STORE MULTIPLE ITEMS IN A SINGLE VARIABLE. LISTS ARE ORDERED OR MUTABLE CONTAINERS.\n"
   ]
  },
  {
   "cell_type": "code",
   "execution_count": 6,
   "id": "56d8a214",
   "metadata": {},
   "outputs": [
    {
     "name": "stdout",
     "output_type": "stream",
     "text": [
      "['United Kingdom', 'China', 'India', 'Togo', 'Chad']\n"
     ]
    }
   ],
   "source": [
    "countries = ['United Kingdom','China','India','Togo', 'Chad']\n",
    "print(countries)"
   ]
  },
  {
   "cell_type": "markdown",
   "id": "82c68225",
   "metadata": {},
   "source": [
    "# INDEXING\n",
    "IT IS USED TO OBTAIN A LIST OF ELEMENT BY ITS POSITION."
   ]
  },
  {
   "cell_type": "code",
   "execution_count": 8,
   "id": "cbaeb092",
   "metadata": {},
   "outputs": [
    {
     "name": "stdout",
     "output_type": "stream",
     "text": [
      "India\n",
      "Togo\n"
     ]
    }
   ],
   "source": [
    "countries = ['United Kingdom','China','India','Togo', 'Chad']\n",
    "print(countries[2])\n",
    "print(countries[3])"
   ]
  },
  {
   "cell_type": "markdown",
   "id": "5507262a",
   "metadata": {},
   "source": [
    "# SLICING\n",
    "IT IS USED TO GET OR ACCESS PART OF THE A LIST. A SLICE IS A SUBSET OF OF LIST ELEMENT."
   ]
  },
  {
   "cell_type": "code",
   "execution_count": 16,
   "id": "31d76b5c",
   "metadata": {},
   "outputs": [
    {
     "name": "stdout",
     "output_type": "stream",
     "text": [
      "['United Kingdom', 'China', 'India']\n"
     ]
    }
   ],
   "source": [
    "#start from zero and end at two\n",
    "countries = ['United Kingdom','China','India','Togo', 'Chad']\n",
    "print(countries[0:3])"
   ]
  },
  {
   "cell_type": "code",
   "execution_count": 9,
   "id": "15286a25",
   "metadata": {},
   "outputs": [
    {
     "name": "stdout",
     "output_type": "stream",
     "text": [
      "['United Kingdom', 'China', 'India']\n",
      "['United Kingdom', 'China']\n"
     ]
    }
   ],
   "source": [
    "# select first 3 names and first 2 names\n",
    "countries\n",
    "print(countries[:3])\n",
    "print(countries[:2])"
   ]
  },
  {
   "cell_type": "markdown",
   "id": "92fc5c09",
   "metadata": {},
   "source": [
    "# LIST OPERATIONS AND METHODS\n",
    "IT IS THE WAY OR METHODS TO ADD NEW ELEMENT, REMOVE, UPDATE AND SO ON."
   ]
  },
  {
   "cell_type": "code",
   "execution_count": 21,
   "id": "80d48b1b",
   "metadata": {},
   "outputs": [
    {
     "data": {
      "text/plain": [
       "['United Kingdom', 'China', 'India', 'Togo', 'Chad', 'Canada']"
      ]
     },
     "execution_count": 21,
     "metadata": {},
     "output_type": "execute_result"
    }
   ],
   "source": [
    "# APPEND: ADD NEW COUNTRY TO THE LIST\n",
    "\n",
    "countries = ['United Kingdom','China','India','Togo', 'Chad']\n",
    "countries.append('Canada')\n",
    "countries"
   ]
  },
  {
   "cell_type": "code",
   "execution_count": 22,
   "id": "1af9518b",
   "metadata": {},
   "outputs": [
    {
     "data": {
      "text/plain": [
       "['United Kingdom',\n",
       " 'China',\n",
       " 'India',\n",
       " 'Togo',\n",
       " 'Chad',\n",
       " 'Canada',\n",
       " 'Ghana',\n",
       " 'Niger']"
      ]
     },
     "execution_count": 22,
     "metadata": {},
     "output_type": "execute_result"
    }
   ],
   "source": [
    "countries = ['United Kingdom','China','India','Togo', 'Chad']\n",
    "countries.append('Canada')\n",
    "countries.append('Ghana')\n",
    "countries.append('Niger')\n",
    "countries"
   ]
  },
  {
   "cell_type": "code",
   "execution_count": 23,
   "id": "7d976735",
   "metadata": {},
   "outputs": [
    {
     "data": {
      "text/plain": [
       "['Canada', 'United Kingdom', 'China', 'India', 'Togo', 'Chad']"
      ]
     },
     "execution_count": 23,
     "metadata": {},
     "output_type": "execute_result"
    }
   ],
   "source": [
    "# insert: add a new element to a specific position\n",
    "countries = ['United Kingdom','China','India','Togo', 'Chad']\n",
    "countries.insert(0,'Canada')\n",
    "countries"
   ]
  },
  {
   "cell_type": "code",
   "execution_count": 24,
   "id": "180ecc68",
   "metadata": {},
   "outputs": [
    {
     "data": {
      "text/plain": [
       "['sudan',\n",
       " 'kenya',\n",
       " 'uganda',\n",
       " 'Japan',\n",
       " 'United Kingdom',\n",
       " 'China',\n",
       " 'India',\n",
       " 'Togo',\n",
       " 'Chad']"
      ]
     },
     "execution_count": 24,
     "metadata": {},
     "output_type": "execute_result"
    }
   ],
   "source": [
    "# joining list together by using + operators\n",
    "countries2 = ['United Kingdom','China','India','Togo', 'Chad']\n",
    "countries1 = ['sudan', 'kenya', 'uganda', 'Japan']\n",
    "countries1 + countries2\n"
   ]
  },
  {
   "cell_type": "markdown",
   "id": "da84f82a",
   "metadata": {},
   "source": [
    "# REMOVING ELMENT\n",
    "IT IS THE WAY OR PROCESS OF DELETING A ELEMENT FROM THE LIST.SUCH AS 'DOT REMOVE', 'POP', AND 'DELETE'.\n"
   ]
  },
  {
   "cell_type": "code",
   "execution_count": 36,
   "id": "e18bc9ff",
   "metadata": {},
   "outputs": [
    {
     "name": "stdout",
     "output_type": "stream",
     "text": [
      "['United Kingdom', 'China', 'India', 'Togo', 'Chad']\n",
      "['United Kingdom', 'India', 'Togo', 'Chad']\n"
     ]
    }
   ],
   "source": [
    "# dot remove\n",
    "countries = ['United Kingdom','China','India','Togo', 'Chad']\n",
    "print(countries)\n",
    "countries.remove('China')\n",
    "print(countries)\n"
   ]
  },
  {
   "cell_type": "code",
   "execution_count": 38,
   "id": "75de9769",
   "metadata": {},
   "outputs": [
    {
     "name": "stdout",
     "output_type": "stream",
     "text": [
      "['United Kingdom', 'China', 'India', 'Chad']\n"
     ]
    }
   ],
   "source": [
    "# pop\n",
    "countries = ['United Kingdom','China','India','Togo', 'Chad']\n",
    "countries.pop(3)\n",
    "print(countries)"
   ]
  },
  {
   "cell_type": "markdown",
   "id": "a631c02a",
   "metadata": {},
   "source": [
    "# delete\n"
   ]
  },
  {
   "cell_type": "code",
   "execution_count": 49,
   "id": "37420dcc",
   "metadata": {},
   "outputs": [
    {
     "name": "stdout",
     "output_type": "stream",
     "text": [
      "['United Kingdom', 'India', 'Togo', 'Chad']\n"
     ]
    }
   ],
   "source": [
    "countries = ['United Kingdom','China','India','Togo', 'Chad']\n",
    "del countries[1]\n",
    "print(countries)"
   ]
  },
  {
   "cell_type": "markdown",
   "id": "d8e49f6a",
   "metadata": {},
   "source": [
    "# UPDATING\n",
    "USING INDEXING TO TO LOCATE THE ELEMENT AND SET IT TO A NEW VALUE BY USING THE = SIGN.\n"
   ]
  },
  {
   "cell_type": "code",
   "execution_count": 51,
   "id": "861a166e",
   "metadata": {},
   "outputs": [
    {
     "data": {
      "text/plain": [
       "['Cat', 'Fish', 'Rabbit', 'Hen']"
      ]
     },
     "execution_count": 51,
     "metadata": {},
     "output_type": "execute_result"
    }
   ],
   "source": [
    "animals = ['Cat', 'Lizard', 'Rabbit', 'Hen']\n",
    "animals[1] = 'Fish'\n",
    "animals"
   ]
  },
  {
   "cell_type": "code",
   "execution_count": null,
   "id": "38d18081",
   "metadata": {},
   "outputs": [],
   "source": [
    "# SORTING OF THE LIST\n",
    "IT IS THE PROCESS OF ARRANGING ELEMENT IN ASCENDING ORDER\n",
    "\n"
   ]
  },
  {
   "cell_type": "code",
   "execution_count": 45,
   "id": "8199716f",
   "metadata": {},
   "outputs": [
    {
     "data": {
      "text/plain": [
       "[1, 2, 3, 4, 5, 6, 7, 8, 9]"
      ]
     },
     "execution_count": 45,
     "metadata": {},
     "output_type": "execute_result"
    }
   ],
   "source": [
    "numbers = [3, 4, 5, 1, 2, 7, 9, 6, 8]\n",
    "numbers.sort()\n",
    "numbers\n"
   ]
  },
  {
   "cell_type": "code",
   "execution_count": 48,
   "id": "8819ca5f",
   "metadata": {},
   "outputs": [
    {
     "data": {
      "text/plain": [
       "['torties', 'snake', 'rabit', 'monkey', 'lizard', 'dog', 'cat']"
      ]
     },
     "execution_count": 48,
     "metadata": {},
     "output_type": "execute_result"
    }
   ],
   "source": [
    "# arrange in decending order\n",
    "wild = ['snake', 'lizard', 'torties', 'rabit', 'monkey', 'dog', 'cat']\n",
    "wild.sort(reverse=True)\n",
    "wild"
   ]
  },
  {
   "cell_type": "markdown",
   "id": "9817601a",
   "metadata": {},
   "source": [
    "# DICTIONARY\n",
    "IN PYTHON, DICTIONARY HELPS TO STORE DATA IN KEY: VALUE PAIRS (ONE PAIR IS CALLED ITEM). LIKE LUIST, DICTIONARY AE MUTABLE BUT UNLIKE LIST, DICTIONARY ISNT ACCESSED VIA KEY, AND DUPLICATE KEYS ARE NOT AVAILABLE.\n"
   ]
  },
  {
   "cell_type": "code",
   "execution_count": 61,
   "id": "c10ef887",
   "metadata": {},
   "outputs": [
    {
     "data": {
      "text/plain": [
       "'Accountant'"
      ]
     },
     "execution_count": 61,
     "metadata": {},
     "output_type": "execute_result"
    }
   ],
   "source": [
    "mydata = {'name':'wasiu', 'age':30, 'Salary':20000, 'Role':'Accountant'}\n",
    "mydata['Role']"
   ]
  },
  {
   "cell_type": "code",
   "execution_count": 56,
   "id": "34726542",
   "metadata": {},
   "outputs": [
    {
     "data": {
      "text/plain": [
       "dict_keys(['name', 'age', 'Salary', 'Role'])"
      ]
     },
     "execution_count": 56,
     "metadata": {},
     "output_type": "execute_result"
    }
   ],
   "source": [
    "# to bring out all keys\n",
    "mydata.keys()\n"
   ]
  },
  {
   "cell_type": "code",
   "execution_count": 57,
   "id": "19ab5c23",
   "metadata": {},
   "outputs": [
    {
     "data": {
      "text/plain": [
       "dict_values(['wasiu', 30, 20000, 'Accountant'])"
      ]
     },
     "execution_count": 57,
     "metadata": {},
     "output_type": "execute_result"
    }
   ],
   "source": [
    "# to bring out all values\n",
    "mydata.values()"
   ]
  },
  {
   "cell_type": "code",
   "execution_count": 58,
   "id": "5f61a732",
   "metadata": {},
   "outputs": [
    {
     "data": {
      "text/plain": [
       "dict_items([('name', 'wasiu'), ('age', 30), ('Salary', 20000), ('Role', 'Accountant')])"
      ]
     },
     "execution_count": 58,
     "metadata": {},
     "output_type": "execute_result"
    }
   ],
   "source": [
    "# to bring out both keys and values\n",
    "mydata.items()"
   ]
  },
  {
   "cell_type": "markdown",
   "id": "166b7a15",
   "metadata": {},
   "source": [
    "#  ADDING AND UPDATING IN DICTIONARY\n"
   ]
  },
  {
   "cell_type": "code",
   "execution_count": 63,
   "id": "b0ae51c0",
   "metadata": {},
   "outputs": [],
   "source": [
    "mydata = {'name':'wasiu', 'age':30, 'Salary':20000, 'Role':'Accountant'}"
   ]
  },
  {
   "cell_type": "code",
   "execution_count": 64,
   "id": "15627494",
   "metadata": {},
   "outputs": [],
   "source": [
    "mydata['height']=1.8"
   ]
  },
  {
   "cell_type": "code",
   "execution_count": 65,
   "id": "c97145ba",
   "metadata": {},
   "outputs": [
    {
     "data": {
      "text/plain": [
       "{'name': 'wasiu',\n",
       " 'age': 30,\n",
       " 'Salary': 20000,\n",
       " 'Role': 'Accountant',\n",
       " 'height': 1.8}"
      ]
     },
     "execution_count": 65,
     "metadata": {},
     "output_type": "execute_result"
    }
   ],
   "source": [
    "mydata"
   ]
  },
  {
   "cell_type": "code",
   "execution_count": 66,
   "id": "3c37f0a9",
   "metadata": {},
   "outputs": [],
   "source": [
    "mydata.update({'height':1.9, 'languages':['english','spanish']})"
   ]
  },
  {
   "cell_type": "code",
   "execution_count": 67,
   "id": "bfca5853",
   "metadata": {},
   "outputs": [
    {
     "data": {
      "text/plain": [
       "{'name': 'wasiu',\n",
       " 'age': 30,\n",
       " 'Salary': 20000,\n",
       " 'Role': 'Accountant',\n",
       " 'height': 1.9,\n",
       " 'languages': ['english', 'spanish']}"
      ]
     },
     "execution_count": 67,
     "metadata": {},
     "output_type": "execute_result"
    }
   ],
   "source": [
    "mydata"
   ]
  },
  {
   "cell_type": "markdown",
   "id": "b249aa5d",
   "metadata": {},
   "source": [
    "# how to clear data in python dictionary"
   ]
  },
  {
   "cell_type": "code",
   "execution_count": 68,
   "id": "a7cd0584",
   "metadata": {},
   "outputs": [],
   "source": [
    "mydata = {'name':'wasiu', 'age':30, 'Salary':20000, 'Role':'Accountant'}\n",
    "mydata.clear()"
   ]
  },
  {
   "cell_type": "code",
   "execution_count": 69,
   "id": "1be32545",
   "metadata": {},
   "outputs": [
    {
     "data": {
      "text/plain": [
       "{}"
      ]
     },
     "execution_count": 69,
     "metadata": {},
     "output_type": "execute_result"
    }
   ],
   "source": [
    "mydata"
   ]
  },
  {
   "cell_type": "markdown",
   "id": "35145f22",
   "metadata": {},
   "source": [
    "# IF STATEMENT\n",
    "IT IS A CONDITIONAL STATEMENT USED TO DECIDE WHETHER A STAEMENT (OR BLOCK OF STATEMENTS) WILL BE EXECUTED. it is more or less if function in excel."
   ]
  },
  {
   "cell_type": "code",
   "execution_count": 4,
   "id": "e4808c4f",
   "metadata": {},
   "outputs": [
    {
     "name": "stdout",
     "output_type": "stream",
     "text": [
      "Please Enter a number12\n",
      "Wait for your time\n"
     ]
    }
   ],
   "source": [
    "age = int(input('Please Enter a number'))\n",
    "if age>18:\n",
    "            print('You are eligible to vote')\n",
    "else:      \n",
    "            print('Wait for your time')"
   ]
  },
  {
   "cell_type": "code",
   "execution_count": 5,
   "id": "d42a1400",
   "metadata": {},
   "outputs": [
    {
     "name": "stdout",
     "output_type": "stream",
     "text": [
      "please enter your age18\n",
      "rejected\n"
     ]
    }
   ],
   "source": [
    "age = int(input('please enter your age'))\n",
    "if age>25:\n",
    "    print('selected')\n",
    "else:\n",
    "    print('rejected')"
   ]
  },
  {
   "cell_type": "code",
   "execution_count": 7,
   "id": "02279ea2",
   "metadata": {},
   "outputs": [
    {
     "name": "stdout",
     "output_type": "stream",
     "text": [
      "included\n"
     ]
    }
   ],
   "source": [
    "countries = ['united kingdom', 'india','china', 'brazil']\n",
    "if 'china' in countries:\n",
    "    print('included')\n",
    "else: \n",
    "    print('excluded')"
   ]
  },
  {
   "cell_type": "markdown",
   "id": "30b94e24",
   "metadata": {},
   "source": [
    "# Types of Operators"
   ]
  },
  {
   "cell_type": "code",
   "execution_count": null,
   "id": "0cf22242",
   "metadata": {},
   "outputs": [],
   "source": [
    "#  COMPARISON OPERATORS\n",
    "EQUAL TO: ==\n",
    "DIFFERENT: !=\n",
    "GREATER THAN: >\n",
    "LESSTHAN: <\n",
    "GREATER THAN OR EQUAL TO: >=\n",
    "LESSTHAN OR E3QUAL TO: <=\n"
   ]
  },
  {
   "cell_type": "markdown",
   "id": "e77526c8",
   "metadata": {},
   "source": [
    "# BOOLEAN OPERATOR\n",
    "AND\n",
    "OR\n",
    "NOT"
   ]
  },
  {
   "cell_type": "markdown",
   "id": "2fcfa2ea",
   "metadata": {},
   "source": [
    "# FOR LOOP\n",
    "IT ALLOWS TO LOOP THROUGH LISTED ITEMS OR OBJECTS (E.G LIST, DICTIONARY) AND PERFORM THE SAME ACTION TO EACH ELEMNT"
   ]
  },
  {
   "cell_type": "code",
   "execution_count": 8,
   "id": "9d5b8191",
   "metadata": {},
   "outputs": [
    {
     "name": "stdout",
     "output_type": "stream",
     "text": [
      "united kingdom\n",
      "india\n",
      "china\n",
      "brazil\n"
     ]
    }
   ],
   "source": [
    "for country in countries:\n",
    "    print(country)"
   ]
  },
  {
   "cell_type": "code",
   "execution_count": 9,
   "id": "1abdc1a8",
   "metadata": {},
   "outputs": [
    {
     "name": "stdout",
     "output_type": "stream",
     "text": [
      "brazil\n"
     ]
    }
   ],
   "source": [
    "for country in countries:\n",
    "    if country== 'brazil':\n",
    "        print(country)"
   ]
  },
  {
   "cell_type": "markdown",
   "id": "c58fd5f1",
   "metadata": {},
   "source": [
    "# FUNCTIONS\n",
    "BUILT-IN FUNCTIONS\n",
    "PYTHON HAS ALOLT OF BUILT-IN FUNCTION THAT CAN HELP US PERFORM A SPECIFIC TASK.LET US HAVE A LOOK AT THE MOST COMMON OF THEM.\n",
    "RANGE()\n",
    "LEN()\n",
    "MAX()\n",
    "MIN()\n",
    "ROUND()\n",
    "TYPE()"
   ]
  },
  {
   "cell_type": "markdown",
   "id": "77b84b26",
   "metadata": {},
   "source": [
    "# HOW TO CREATE A FUNCTION\n",
    "THIS IS ABILITY TO CREATE PERSONAL OR INDEPENDENT FUNCTION."
   ]
  },
  {
   "cell_type": "code",
   "execution_count": 11,
   "id": "05e5fc60",
   "metadata": {},
   "outputs": [
    {
     "name": "stdout",
     "output_type": "stream",
     "text": [
      "musa\n"
     ]
    }
   ],
   "source": [
    "def printname():\n",
    "    print(\"musa\")\n",
    "printname()"
   ]
  },
  {
   "cell_type": "code",
   "execution_count": 28,
   "id": "ada969ca",
   "metadata": {},
   "outputs": [
    {
     "data": {
      "text/plain": [
       "6"
      ]
     },
     "execution_count": 28,
     "metadata": {},
     "output_type": "execute_result"
    }
   ],
   "source": [
    "def sum(a,b,c):\n",
    "    x=a+b+c\n",
    "    return x\n",
    "sum(1,2,3)"
   ]
  },
  {
   "cell_type": "code",
   "execution_count": null,
   "id": "23a6dc1b",
   "metadata": {},
   "outputs": [],
   "source": []
  }
 ],
 "metadata": {
  "kernelspec": {
   "display_name": "Python 3 (ipykernel)",
   "language": "python",
   "name": "python3"
  },
  "language_info": {
   "codemirror_mode": {
    "name": "ipython",
    "version": 3
   },
   "file_extension": ".py",
   "mimetype": "text/x-python",
   "name": "python",
   "nbconvert_exporter": "python",
   "pygments_lexer": "ipython3",
   "version": "3.9.13"
  }
 },
 "nbformat": 4,
 "nbformat_minor": 5
}
